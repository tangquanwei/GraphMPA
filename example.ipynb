{
 "cells": [
  {
   "cell_type": "code",
   "execution_count": null,
   "id": "24d84825",
   "metadata": {},
   "outputs": [],
   "source": [
    "%load_ext autoreload\n",
    "%autoreload 2"
   ]
  },
  {
   "cell_type": "code",
   "execution_count": null,
   "id": "75610290",
   "metadata": {},
   "outputs": [],
   "source": [
    "from rich import print"
   ]
  },
  {
   "cell_type": "code",
   "execution_count": 2,
   "id": "7482c197",
   "metadata": {},
   "outputs": [
    {
     "name": "stdout",
     "output_type": "stream",
     "text": [
      "run on 10.10.66.142, /data/qwtang\n"
     ]
    },
    {
     "name": "stderr",
     "output_type": "stream",
     "text": [
      "\u001b[32m2025-05-20 14:49:18.332\u001b[0m | \u001b[1mINFO    \u001b[0m | \u001b[36mgmpa.embed\u001b[0m:\u001b[36m__init__\u001b[0m:\u001b[36m21\u001b[0m - \u001b[1mload st_embedder done!\u001b[0m\n"
     ]
    }
   ],
   "source": [
    "from util import  *\n",
    "embedder = get_embedder[\"m3\"](device_map=\"cuda:0\")\n"
   ]
  },
  {
   "cell_type": "code",
   "execution_count": 3,
   "id": "07f885c4",
   "metadata": {},
   "outputs": [
    {
     "data": {
      "application/vnd.jupyter.widget-view+json": {
       "model_id": "4195a3307ce34c6287fe59d8352a6f71",
       "version_major": 2,
       "version_minor": 0
      },
      "text/plain": [
       "Loading checkpoint shards:   0%|          | 0/4 [00:00<?, ?it/s]"
      ]
     },
     "metadata": {},
     "output_type": "display_data"
    }
   ],
   "source": [
    "llm = get_llm[\"qwen_7b\"](device_map=\"cuda:0\")\n"
   ]
  },
  {
   "cell_type": "code",
   "execution_count": 4,
   "id": "20374165",
   "metadata": {},
   "outputs": [],
   "source": [
    "from gmpa import Rag\n",
    "rag = Rag(embedder, llm)\n"
   ]
  },
  {
   "cell_type": "code",
   "execution_count": 5,
   "id": "857e9a4e",
   "metadata": {},
   "outputs": [
    {
     "data": {
      "text/plain": [
       "108347"
      ]
     },
     "execution_count": 5,
     "metadata": {},
     "output_type": "execute_result"
    }
   ],
   "source": [
    "path = \"data/我只知道人是什么 (余华).txt\"\n",
    "with open(path) as f:\n",
    "    text = f.read()\n",
    "len(text)"
   ]
  },
  {
   "cell_type": "code",
   "execution_count": 10,
   "id": "9f5700a3",
   "metadata": {},
   "outputs": [
    {
     "name": "stderr",
     "output_type": "stream",
     "text": [
      "Build layers:   0%|          | 0/2 [00:00<?, ?it/s]"
     ]
    },
    {
     "data": {
      "application/vnd.jupyter.widget-view+json": {
       "model_id": "c7b3b1195a724b6e8e9f0afbf6ea70a8",
       "version_major": 2,
       "version_minor": 0
      },
      "text/plain": [
       "Large chunks summary:   0%|          | 0/305 [00:00<?, ?it/s]"
      ]
     },
     "metadata": {},
     "output_type": "display_data"
    },
    {
     "name": "stderr",
     "output_type": "stream",
     "text": [
      "\u001b[32m2025-05-20 15:28:07.965\u001b[0m | \u001b[1mINFO    \u001b[0m | \u001b[36mgmpa.db\u001b[0m:\u001b[36mfrom_document\u001b[0m:\u001b[36m159\u001b[0m - \u001b[1mlarge chunks info:{'len': 305, 'max': 1251, 'avg': 421.56, 'min': 269, 'token_max': 587, 'token_avg': 482.85, 'token_min': 249}\u001b[0m\n",
      "\u001b[32m2025-05-20 15:28:08.045\u001b[0m | \u001b[1mINFO    \u001b[0m | \u001b[36mgmpa.db\u001b[0m:\u001b[36mfrom_list\u001b[0m:\u001b[36m191\u001b[0m - \u001b[1mchunks info:{'len': 1951, 'max': 1251, 'avg': 121.36, 'min': 4, 'token_max': 587, 'token_avg': 141.7, 'token_min': 4}\u001b[0m\n",
      "\u001b[32m2025-05-20 15:28:08.049\u001b[0m | \u001b[1mINFO    \u001b[0m | \u001b[36mgmpa.db\u001b[0m:\u001b[36mfrom_list\u001b[0m:\u001b[36m196\u001b[0m - \u001b[1mencoding\u001b[0m\n",
      "\u001b[32m2025-05-20 15:28:11.625\u001b[0m | \u001b[1mINFO    \u001b[0m | \u001b[36mgmpa.db\u001b[0m:\u001b[36mfrom_list\u001b[0m:\u001b[36m202\u001b[0m - \u001b[1mindexing\u001b[0m\n",
      "\u001b[32m2025-05-20 15:28:11.632\u001b[0m | \u001b[1mINFO    \u001b[0m | \u001b[36mgmpa.db\u001b[0m:\u001b[36mfrom_list\u001b[0m:\u001b[36m215\u001b[0m - \u001b[1m{'C': {1951}, 'E': {1951}, 'I': {1951}}\u001b[0m\n",
      "\u001b[32m2025-05-20 15:28:11.633\u001b[0m | \u001b[1mINFO    \u001b[0m | \u001b[36mgmpa.db\u001b[0m:\u001b[36mbuild_graph_leiden\u001b[0m:\u001b[36m330\u001b[0m - \u001b[1minit_resolution is not None\u001b[0m\n",
      "\u001b[32m2025-05-20 15:28:11.873\u001b[0m | \u001b[1mINFO    \u001b[0m | \u001b[36mgmpa.db\u001b[0m:\u001b[36mbuild_graph_leiden\u001b[0m:\u001b[36m347\u001b[0m - \u001b[1mG(V, E) = (1951, 17526)\u001b[0m\n",
      "\u001b[32m2025-05-20 15:28:11.947\u001b[0m | \u001b[1mINFO    \u001b[0m | \u001b[36mgmpa.db\u001b[0m:\u001b[36mbuild_graph_leiden\u001b[0m:\u001b[36m362\u001b[0m - \u001b[1mcommunities l, m, n= 23,214,1\u001b[0m\n",
      "\u001b[32m2025-05-20 15:28:11.952\u001b[0m | \u001b[1mINFO    \u001b[0m | \u001b[36mgmpa.db\u001b[0m:\u001b[36mbuild_graph_leiden\u001b[0m:\u001b[36m374\u001b[0m - \u001b[1mcommunity_context l, m, n= 21,21126,792\u001b[0m\n",
      "summarizing: 100%|██████████| 21/21 [02:35<00:00,  7.42s/it]\n",
      "\u001b[32m2025-05-20 15:30:47.841\u001b[0m | \u001b[1mINFO    \u001b[0m | \u001b[36mgmpa.rag\u001b[0m:\u001b[36mbuild\u001b[0m:\u001b[36m163\u001b[0m - \u001b[1msummarization_outputs l, m, n= 21,477,271\u001b[0m\n",
      "Build layers:  50%|█████     | 1/2 [31:41<31:41, 1901.49s/it]\u001b[32m2025-05-20 15:30:47.844\u001b[0m | \u001b[1mINFO    \u001b[0m | \u001b[36mgmpa.db\u001b[0m:\u001b[36mfrom_list\u001b[0m:\u001b[36m191\u001b[0m - \u001b[1mchunks info:{'len': 21, 'max': 477, 'avg': 393.76, 'min': 271, 'token_max': 511, 'token_avg': 428.62, 'token_min': 237}\u001b[0m\n",
      "\u001b[32m2025-05-20 15:30:47.844\u001b[0m | \u001b[1mINFO    \u001b[0m | \u001b[36mgmpa.db\u001b[0m:\u001b[36mfrom_list\u001b[0m:\u001b[36m196\u001b[0m - \u001b[1mencoding\u001b[0m\n",
      "\u001b[32m2025-05-20 15:30:48.032\u001b[0m | \u001b[1mINFO    \u001b[0m | \u001b[36mgmpa.db\u001b[0m:\u001b[36mfrom_list\u001b[0m:\u001b[36m202\u001b[0m - \u001b[1mindexing\u001b[0m\n",
      "\u001b[32m2025-05-20 15:30:48.033\u001b[0m | \u001b[1mINFO    \u001b[0m | \u001b[36mgmpa.db\u001b[0m:\u001b[36mfrom_list\u001b[0m:\u001b[36m215\u001b[0m - \u001b[1m{'C': {21}, 'E': {21}, 'I': {21}}\u001b[0m\n",
      "Build layers: 100%|██████████| 2/2 [31:41<00:00, 950.84s/it] \n"
     ]
    }
   ],
   "source": [
    "rag.build(\n",
    "    document=text,\n",
    "    chinese=True,\n",
    "    enable_large_chunk_summary=True,\n",
    ")"
   ]
  },
  {
   "cell_type": "code",
   "execution_count": null,
   "id": "7aeac7b5",
   "metadata": {},
   "outputs": [
    {
     "data": {
      "text/html": [
       "<pre style=\"white-space:pre;overflow-x:auto;line-height:normal;font-family:Menlo,'DejaVu Sans Mono',consolas,'Courier New',monospace\"><span style=\"font-weight: bold\">[</span>\n",
       "    <span style=\"color: #008000; text-decoration-color: #008000\">'目录\\nCONTENTS\\n我只知道人是什么 \\n爸爸出差时 \\n我们与他们 \\n我与东亚 \\n我的书游荡世界的经历 </span>\n",
       "<span style=\"color: #008000; text-decoration-color: #008000\">\\n民族传统中的特别性格 \\n好的译文应该和原作打成平局 \\n我的三个现实和梦想'</span>,\n",
       "    <span style=\"color: #008000; text-decoration-color: #008000\">'，四卷本的书读了两遍这是什么样的吸引力'</span>,\n",
       "    <span style=\"color: #008000; text-decoration-color: #008000\">'。它提醒读者，人生是复杂多变的，一个人在成长过程中，会遇到诸多困难与挫折，同时也会有诸多收获'</span>,\n",
       "    <span style=\"color: #008000; text-decoration-color: #008000\">'我读完这本书有一个感觉，这是一个江湖中人写出来的书，是一个经历了很多的人才能写出来的书。'</span>,\n",
       "    <span style=\"color: #008000; text-decoration-color: #008000\">'我的书游荡世界的经历'</span>\n",
       "<span style=\"font-weight: bold\">]</span>\n",
       "</pre>\n"
      ],
      "text/plain": [
       "\u001b[1m[\u001b[0m\n",
       "    \u001b[32m'目录\\nCONTENTS\\n我只知道人是什么 \\n爸爸出差时 \\n我们与他们 \\n我与东亚 \\n我的书游荡世界的经历 \u001b[0m\n",
       "\u001b[32m\\n民族传统中的特别性格 \\n好的译文应该和原作打成平局 \\n我的三个现实和梦想'\u001b[0m,\n",
       "    \u001b[32m'，四卷本的书读了两遍这是什么样的吸引力'\u001b[0m,\n",
       "    \u001b[32m'。它提醒读者，人生是复杂多变的，一个人在成长过程中，会遇到诸多困难与挫折，同时也会有诸多收获'\u001b[0m,\n",
       "    \u001b[32m'我读完这本书有一个感觉，这是一个江湖中人写出来的书，是一个经历了很多的人才能写出来的书。'\u001b[0m,\n",
       "    \u001b[32m'我的书游荡世界的经历'\u001b[0m\n",
       "\u001b[1m]\u001b[0m\n"
      ]
     },
     "metadata": {},
     "output_type": "display_data"
    }
   ],
   "source": [
    "question=\"这本书的主要内容是什么?\"\n",
    "context=rag.retrive(question)\n",
    "print(context)"
   ]
  },
  {
   "cell_type": "code",
   "execution_count": null,
   "id": "b9741360",
   "metadata": {},
   "outputs": [
    {
     "data": {
      "text/html": [
       "<pre style=\"white-space:pre;overflow-x:auto;line-height:normal;font-family:Menlo,'DejaVu Sans Mono',consolas,'Courier New',monospace\">Given the Question, Context below, provide a logical reasoning to get the answer. Please use the format of: \n",
       "##Reason: <span style=\"font-weight: bold\">&lt;</span><span style=\"color: #ff00ff; text-decoration-color: #ff00ff; font-weight: bold\">reason</span><span style=\"color: #000000; text-decoration-color: #000000\">&gt; ##Answer: &lt;answer</span><span style=\"font-weight: bold\">&gt;</span>.\n",
       "\n",
       "Question: 这本书的主要内容是什么?\n",
       "\n",
       "Context: <span style=\"font-weight: bold\">[</span><span style=\"color: #008000; text-decoration-color: #008000\">'目录\\nCONTENTS\\n我只知道人是什么 \\n爸爸出差时 \\n我们与他们 \\n我与东亚 \\n我的书游荡世界的经历 </span>\n",
       "<span style=\"color: #008000; text-decoration-color: #008000\">\\n民族传统中的特别性格 \\n好的译文应该和原作打成平局 \\n我的三个现实和梦想'</span>, \n",
       "<span style=\"color: #008000; text-decoration-color: #008000\">'，四卷本的书读了两遍这是什么样的吸引力'</span>, \n",
       "<span style=\"color: #008000; text-decoration-color: #008000\">'。它提醒读者，人生是复杂多变的，一个人在成长过程中，会遇到诸多困难与挫折，同时也会有诸多收获'</span>, \n",
       "<span style=\"color: #008000; text-decoration-color: #008000\">'我读完这本书有一个感觉，这是一个江湖中人写出来的书，是一个经历了很多的人才能写出来的书。'</span>, <span style=\"color: #008000; text-decoration-color: #008000\">'我的书游荡世界的经历'</span><span style=\"font-weight: bold\">]</span>\n",
       "</pre>\n"
      ],
      "text/plain": [
       "Given the Question, Context below, provide a logical reasoning to get the answer. Please use the format of: \n",
       "##Reason: \u001b[1m<\u001b[0m\u001b[1;95mreason\u001b[0m\u001b[39m> ##Answer: <answer\u001b[0m\u001b[1m>\u001b[0m.\n",
       "\n",
       "Question: 这本书的主要内容是什么?\n",
       "\n",
       "Context: \u001b[1m[\u001b[0m\u001b[32m'目录\\nCONTENTS\\n我只知道人是什么 \\n爸爸出差时 \\n我们与他们 \\n我与东亚 \\n我的书游荡世界的经历 \u001b[0m\n",
       "\u001b[32m\\n民族传统中的特别性格 \\n好的译文应该和原作打成平局 \\n我的三个现实和梦想'\u001b[0m, \n",
       "\u001b[32m'，四卷本的书读了两遍这是什么样的吸引力'\u001b[0m, \n",
       "\u001b[32m'。它提醒读者，人生是复杂多变的，一个人在成长过程中，会遇到诸多困难与挫折，同时也会有诸多收获'\u001b[0m, \n",
       "\u001b[32m'我读完这本书有一个感觉，这是一个江湖中人写出来的书，是一个经历了很多的人才能写出来的书。'\u001b[0m, \u001b[32m'我的书游荡世界的经历'\u001b[0m\u001b[1m]\u001b[0m\n"
      ]
     },
     "metadata": {},
     "output_type": "display_data"
    }
   ],
   "source": [
    "promplate=\"\"\"Given the Question, Context below, provide a logical reasoning to get the answer. Please use the format of: ##Reason: <reason> ##Answer: <answer>.\n",
    "\n",
    "Question: {question}\n",
    "\n",
    "Context: {context}\"\"\"\n",
    "prompt=promplate.format(question=question, context=context)\n",
    "print(prompt)"
   ]
  },
  {
   "cell_type": "code",
   "execution_count": 22,
   "id": "781f9e31",
   "metadata": {},
   "outputs": [
    {
     "data": {
      "text/html": [
       "<pre style=\"white-space:pre;overflow-x:auto;line-height:normal;font-family:Menlo,'DejaVu Sans Mono',consolas,'Courier New',monospace\">##Reason: 根据提供的目录和评论信息，可以推断出这本书的内容主要涉及个人成长经历、文化观察以及对翻译的看法等。\n",
       "##Answer: \n",
       "本书主要内容包括作者的成长经历、个人对不同文化的观察和思考，以及对翻译工作的见解。书中还提到了作者的书在全球范围内\n",
       "的传播经历，并强调了人生的复杂性和多变性。\n",
       "</pre>\n"
      ],
      "text/plain": [
       "##Reason: 根据提供的目录和评论信息，可以推断出这本书的内容主要涉及个人成长经历、文化观察以及对翻译的看法等。\n",
       "##Answer: \n",
       "本书主要内容包括作者的成长经历、个人对不同文化的观察和思考，以及对翻译工作的见解。书中还提到了作者的书在全球范围内\n",
       "的传播经历，并强调了人生的复杂性和多变性。\n"
      ]
     },
     "metadata": {},
     "output_type": "display_data"
    }
   ],
   "source": [
    "answer=llm.answer_question(prompt)\n",
    "print(answer)"
   ]
  }
 ],
 "metadata": {
  "kernelspec": {
   "display_name": "grag",
   "language": "python",
   "name": "python3"
  },
  "language_info": {
   "codemirror_mode": {
    "name": "ipython",
    "version": 3
   },
   "file_extension": ".py",
   "mimetype": "text/x-python",
   "name": "python",
   "nbconvert_exporter": "python",
   "pygments_lexer": "ipython3",
   "version": "3.11.10"
  }
 },
 "nbformat": 4,
 "nbformat_minor": 5
}
