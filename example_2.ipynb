{
 "cells": [
  {
   "cell_type": "code",
   "execution_count": 1,
   "id": "24d84825",
   "metadata": {},
   "outputs": [],
   "source": [
    "%load_ext autoreload\n",
    "%autoreload 2"
   ]
  },
  {
   "cell_type": "code",
   "execution_count": 2,
   "id": "75610290",
   "metadata": {},
   "outputs": [],
   "source": [
    "from rich import print"
   ]
  },
  {
   "cell_type": "code",
   "execution_count": 3,
   "id": "7482c197",
   "metadata": {},
   "outputs": [
    {
     "name": "stdout",
     "output_type": "stream",
     "text": [
      "run on 10.10.66.142, /data/qwtang\n"
     ]
    },
    {
     "name": "stderr",
     "output_type": "stream",
     "text": [
      "\u001b[32m2025-05-20 16:43:06.155\u001b[0m | \u001b[1mINFO    \u001b[0m | \u001b[36mgmpa.embed\u001b[0m:\u001b[36m__init__\u001b[0m:\u001b[36m21\u001b[0m - \u001b[1mload st_embedder done!\u001b[0m\n"
     ]
    }
   ],
   "source": [
    "from util import  *\n",
    "embedder = get_embedder[\"m3\"](device_map=\"cuda:0\")\n"
   ]
  },
  {
   "cell_type": "code",
   "execution_count": 4,
   "id": "07f885c4",
   "metadata": {},
   "outputs": [
    {
     "data": {
      "application/vnd.jupyter.widget-view+json": {
       "model_id": "8e84b761d69d4a80acdf5c62c4adc57d",
       "version_major": 2,
       "version_minor": 0
      },
      "text/plain": [
       "Loading checkpoint shards:   0%|          | 0/4 [00:00<?, ?it/s]"
      ]
     },
     "metadata": {},
     "output_type": "display_data"
    }
   ],
   "source": [
    "llm = get_llm[\"qwen_7b\"](device_map=\"cuda:0\")\n"
   ]
  },
  {
   "cell_type": "code",
   "execution_count": 5,
   "id": "20374165",
   "metadata": {},
   "outputs": [],
   "source": [
    "from gmpa import Rag\n",
    "rag = Rag(embedder, llm)\n"
   ]
  },
  {
   "cell_type": "code",
   "execution_count": 7,
   "id": "857e9a4e",
   "metadata": {},
   "outputs": [
    {
     "data": {
      "text/plain": [
       "273782"
      ]
     },
     "execution_count": 7,
     "metadata": {},
     "output_type": "execute_result"
    }
   ],
   "source": [
    "path = \"data/The Great Gatsby.txt\"\n",
    "with open(path, encoding='latin-1') as f:\n",
    "    text = f.read()\n",
    "len(text)"
   ]
  },
  {
   "cell_type": "code",
   "execution_count": 9,
   "id": "9f5700a3",
   "metadata": {},
   "outputs": [
    {
     "name": "stderr",
     "output_type": "stream",
     "text": [
      "Build layers:   0%|          | 0/2 [00:00<?, ?it/s]"
     ]
    },
    {
     "data": {
      "application/vnd.jupyter.widget-view+json": {
       "model_id": "48d759368f5547a8b270d4f0356c0ba4",
       "version_major": 2,
       "version_minor": 0
      },
      "text/plain": [
       "Large chunks summary:   0%|          | 0/128 [00:00<?, ?it/s]"
      ]
     },
     "metadata": {},
     "output_type": "display_data"
    },
    {
     "name": "stderr",
     "output_type": "stream",
     "text": [
      "\u001b[32m2025-05-20 16:54:59.516\u001b[0m | \u001b[1mINFO    \u001b[0m | \u001b[36mgmpa.db\u001b[0m:\u001b[36mfrom_document\u001b[0m:\u001b[36m159\u001b[0m - \u001b[1mlarge chunks info:{'len': 128, 'max': 1371, 'avg': 1039.52, 'min': 461, 'token_max': 444, 'token_avg': 256.15, 'token_min': 194}\u001b[0m\n",
      "\u001b[32m2025-05-20 16:54:59.567\u001b[0m | \u001b[1mINFO    \u001b[0m | \u001b[36mgmpa.db\u001b[0m:\u001b[36mfrom_list\u001b[0m:\u001b[36m191\u001b[0m - \u001b[1mchunks info:{'len': 814, 'max': 1371, 'avg': 493.92, 'min': 209, 'token_max': 444, 'token_avg': 119.19, 'token_min': 52}\u001b[0m\n",
      "\u001b[32m2025-05-20 16:54:59.569\u001b[0m | \u001b[1mINFO    \u001b[0m | \u001b[36mgmpa.db\u001b[0m:\u001b[36mfrom_list\u001b[0m:\u001b[36m196\u001b[0m - \u001b[1mencoding\u001b[0m\n",
      "\u001b[32m2025-05-20 16:55:01.818\u001b[0m | \u001b[1mINFO    \u001b[0m | \u001b[36mgmpa.db\u001b[0m:\u001b[36mfrom_list\u001b[0m:\u001b[36m202\u001b[0m - \u001b[1mindexing\u001b[0m\n",
      "\u001b[32m2025-05-20 16:55:01.820\u001b[0m | \u001b[1mINFO    \u001b[0m | \u001b[36mgmpa.db\u001b[0m:\u001b[36mfrom_list\u001b[0m:\u001b[36m215\u001b[0m - \u001b[1m{'C': {814}, 'E': {814}, 'I': {814}}\u001b[0m\n",
      "\u001b[32m2025-05-20 16:55:01.820\u001b[0m | \u001b[1mINFO    \u001b[0m | \u001b[36mgmpa.db\u001b[0m:\u001b[36mbuild_graph_leiden\u001b[0m:\u001b[36m330\u001b[0m - \u001b[1minit_resolution is not None\u001b[0m\n",
      "\u001b[32m2025-05-20 16:55:01.844\u001b[0m | \u001b[1mINFO    \u001b[0m | \u001b[36mgmpa.db\u001b[0m:\u001b[36mbuild_graph_leiden\u001b[0m:\u001b[36m347\u001b[0m - \u001b[1mG(V, E) = (814, 7322)\u001b[0m\n",
      "\u001b[32m2025-05-20 16:55:01.867\u001b[0m | \u001b[1mINFO    \u001b[0m | \u001b[36mgmpa.db\u001b[0m:\u001b[36mbuild_graph_leiden\u001b[0m:\u001b[36m362\u001b[0m - \u001b[1mcommunities l, m, n= 9,145,59\u001b[0m\n",
      "\u001b[32m2025-05-20 16:55:01.869\u001b[0m | \u001b[1mINFO    \u001b[0m | \u001b[36mgmpa.db\u001b[0m:\u001b[36mbuild_graph_leiden\u001b[0m:\u001b[36m374\u001b[0m - \u001b[1mcommunity_context l, m, n= 9,69945,30423\u001b[0m\n",
      "summarizing: 100%|██████████| 9/9 [01:18<00:00,  8.76s/it]\n",
      "\u001b[32m2025-05-20 16:56:20.738\u001b[0m | \u001b[1mINFO    \u001b[0m | \u001b[36mgmpa.rag\u001b[0m:\u001b[36mbuild\u001b[0m:\u001b[36m163\u001b[0m - \u001b[1msummarization_outputs l, m, n= 9,1690,778\u001b[0m\n",
      "Build layers:  50%|█████     | 1/2 [12:01<12:01, 721.42s/it]\u001b[32m2025-05-20 16:56:20.739\u001b[0m | \u001b[1mINFO    \u001b[0m | \u001b[36mgmpa.db\u001b[0m:\u001b[36mfrom_list\u001b[0m:\u001b[36m191\u001b[0m - \u001b[1mchunks info:{'len': 9, 'max': 1690, 'avg': 1089.22, 'min': 778, 'token_max': 256, 'token_avg': 255.0, 'token_min': 252}\u001b[0m\n",
      "\u001b[32m2025-05-20 16:56:20.739\u001b[0m | \u001b[1mINFO    \u001b[0m | \u001b[36mgmpa.db\u001b[0m:\u001b[36mfrom_list\u001b[0m:\u001b[36m196\u001b[0m - \u001b[1mencoding\u001b[0m\n",
      "\u001b[32m2025-05-20 16:56:20.795\u001b[0m | \u001b[1mINFO    \u001b[0m | \u001b[36mgmpa.db\u001b[0m:\u001b[36mfrom_list\u001b[0m:\u001b[36m202\u001b[0m - \u001b[1mindexing\u001b[0m\n",
      "\u001b[32m2025-05-20 16:56:20.796\u001b[0m | \u001b[1mINFO    \u001b[0m | \u001b[36mgmpa.db\u001b[0m:\u001b[36mfrom_list\u001b[0m:\u001b[36m215\u001b[0m - \u001b[1m{'C': {9}, 'E': {9}, 'I': {9}}\u001b[0m\n",
      "Build layers: 100%|██████████| 2/2 [12:01<00:00, 360.74s/it]\n"
     ]
    }
   ],
   "source": [
    "rag.build(\n",
    "    document=text,\n",
    "    enable_large_chunk_summary=True,\n",
    ")"
   ]
  },
  {
   "cell_type": "code",
   "execution_count": 10,
   "id": "7aeac7b5",
   "metadata": {},
   "outputs": [
    {
     "data": {
      "text/html": [
       "<pre style=\"white-space:pre;overflow-x:auto;line-height:normal;font-family:Menlo,'DejaVu Sans Mono',consolas,'Courier New',monospace\"><span style=\"font-weight: bold\">[</span>\n",
       "    <span style=\"color: #008000; text-decoration-color: #008000\">'Europe, I discovered that I was different from my fellow  Americans: the summer I turned eighteen, I had one </span>\n",
       "<span style=\"color: #008000; text-decoration-color: #008000\">of </span>\n",
       "<span style=\"color: #008000; text-decoration-color: #008000\">those破折号后面的部分是中文，可以忽略不计。以下是《了不起的盖茨比》（F·斯科特·菲茨杰拉德，1925年）的总结，包括尽可</span>\n",
       "<span style=\"color: #008000; text-decoration-color: #008000\">能多的关键细节：\\n\\n《了不起的盖茨比》是美国作家F·斯科特·菲茨杰拉德于1925年创作的小说。这部小说以20世纪20年代的美国</span>\n",
       "<span style=\"color: #008000; text-decoration-color: #008000\">为背景，描绘了一个关于梦想、爱情和失落的故事。\\n\\n故事的主人公杰伊·盖茨比是一个神秘而富有魅力的人物，他举办奢华的派</span>\n",
       "<span style=\"color: #008000; text-decoration-color: #008000\">对，试图吸引心爱的女人黛西·布坎南的注意。然而，盖茨比的真实身份和过去的秘密逐渐浮出水面，揭示了他的悲剧命运。\\n\\n小</span>\n",
       "<span style=\"color: #008000; text-decoration-color: #008000\">说通过叙述者尼克·卡拉威的眼睛展开，尼克是一位来自中西部的年轻人，他在纽约州的西卵区租了一间房子，并成为了盖茨比的邻</span>\n",
       "<span style=\"color: #008000; text-decoration-color: #008000\">居。尼克在故事中扮演着观察者的角色，他对盖茨比的好奇心和同情心贯穿整个故事。\\n\\n小说开头引用了托马'</span>,\n",
       "    <span style=\"color: #008000; text-decoration-color: #008000\">\"The old man was a man named Gatz who had found a book with a schedule of daily activities and resolutions </span>\n",
       "<span style=\"color: #008000; text-decoration-color: #008000\">written by his son Jimmy from 1906. The schedule included specific times for activities such as rising from bed, </span>\n",
       "<span style=\"color: #008000; text-decoration-color: #008000\">exercising, studying, working, playing baseball, practicing elocution, and inventing. It also included general </span>\n",
       "<span style=\"color: #008000; text-decoration-color: #008000\">resolves such as not wasting time, improving his mind, saving money, and being better to his parents. The old man </span>\n",
       "<span style=\"color: #008000; text-decoration-color: #008000\">was excited to find the book and read through it, reminiscing about his son and their past conversations. He was </span>\n",
       "<span style=\"color: #008000; text-decoration-color: #008000\">eager to share the contents with the narrator. The passage then shifts to describe Gatsby's father arriving at a </span>\n",
       "<span style=\"color: #008000; text-decoration-color: #008000\">funeral, where they were waiting for someone else to arrive. When no one showed up, they eventually left in a </span>\n",
       "<span style=\"color: #008000; text-decoration-color: #008000\">procession of cars to attend the cemetery service.\\n\\nKey details:\\n- Book belonged to Jimmy Gatz (Gatsby's real </span>\n",
       "<span style=\"color: #008000; text-decoration-color: #008000\">name)\\n- Schedule from 1906\\n- Specific daily activities and times\\n- General resolves about self-improvement\\n- </span>\n",
       "<span style=\"color: #008000; text-decoration-color: #008000\">Old man Gatz was excited to find the book\\n- Shifts to describe Gatsby's father attending a funeral\\n- No one else </span>\n",
       "<span style=\"color: #008000; text-decoration-color: #008000\">arrived, so they left for the cemetery\\n- Procession of cars to\"</span>,\n",
       "    <span style=\"color: #008000; text-decoration-color: #008000\">' Only Gatsby, the man who gives his  name to this book, was exempt from my reaction - Gatsby, who represented </span>\n",
       "<span style=\"color: #008000; text-decoration-color: #008000\">everything for which I have an unaffected scorn  If personality is an unbroken  series of successful gestures, then</span>\n",
       "<span style=\"color: #008000; text-decoration-color: #008000\">there was something gorgeous about him, some  heightened sensitivity to the promises of life, as if he were related</span>\n",
       "<span style=\"color: #008000; text-decoration-color: #008000\">to one of  those intricate machines that register earthquakes ten thousand miles away This responsiveness had </span>\n",
       "<span style=\"color: #008000; text-decoration-color: #008000\">nothing to do with that flabby impressionability which '</span>,\n",
       "    <span style=\"color: #008000; text-decoration-color: #008000\">\"the whole object of life is to live, not to occupy a certain position in society  or to arrive at any </span>\n",
       "<span style=\"color: #008000; text-decoration-color: #008000\">particular goal, but simply to be alive, to be in the  thick of things, feeling them, suffering them, enjoying </span>\n",
       "<span style=\"color: #008000; text-decoration-color: #008000\">them, and to get one's  blood racing and one's mind working, and to have that special kind of happiness  that comes</span>\n",
       "<span style=\"color: #008000; text-decoration-color: #008000\">from being completely engaged in something that is bigger than  oneself. The passage describes the narrator's </span>\n",
       "<span style=\"color: #008000; text-decoration-color: #008000\">journey to a new life at a preparatory school in the early 1920s. Key details include:\\n\\n- The narrator was chosen</span>\n",
       "<span style=\"color: #008000; text-decoration-color: #008000\">for a prep school by their family, who agreed to finance it.\\n- They moved to the East Coast in the spring of 1922,</span>\n",
       "<span style=\"color: #008000; text-decoration-color: #008000\">initially planning to stay permanently.\\n- Initially, they considered living in the city but decided to rent a </span>\n",
       "<span style=\"color: #008000; text-decoration-color: #008000\">house in a nearby commuting town.\\n- The house was a small, weather-beaten bungalow rented for $80 per month.\\n- </span>\n",
       "<span style=\"color: #008000; text-decoration-color: #008000\">The narrator had a dog (which ran away) and an old Dodge car, along with a Finnish maid who did household </span>\n",
       "<span style=\"color: #008000; text-decoration-color: #008000\">chores.\\n- Loneliness set in briefly, but the narrator met a newcomer on the road who sought directions, making the</span>\n",
       "<span style=\"color: #008000; text-decoration-color: #008000\">narrator feel like a local\"</span>,\n",
       "    <span style=\"color: #008000; text-decoration-color: #008000\">'a tear. The passage describes a scene from F. Scott Fitzgerald\\'s novel \"The Great Gatsby,\" specifically from </span>\n",
       "<span style=\"color: #008000; text-decoration-color: #008000\">Chapter 7. The narrator, Nick Carraway, is sitting in a train compartment with Myrtle Wilson, Tom Buchanan\\'s wife,</span>\n",
       "<span style=\"color: #008000; text-decoration-color: #008000\">and Mrs. McKee. Myrtle is recounting her first encounter with Tom, which occurred on the train.\\n\\nKey details </span>\n",
       "<span style=\"color: #008000; text-decoration-color: #008000\">include:\\n- The setting is a train compartment.\\n- Myrtle is describing how she met Tom, who was dressed formally </span>\n",
       "<span style=\"color: #008000; text-decoration-color: #008000\">and made her feel uncomfortable.\\n- Myrtle\\'s description of the encounter is filled with excitement and </span>\n",
       "<span style=\"color: #008000; text-decoration-color: #008000\">nervousness.\\n- Myrtle\\'s story ends with her planning to buy new items, indicating her materialistic nature.\\n- </span>\n",
       "<span style=\"color: #008000; text-decoration-color: #008000\">The narrator notices that it is now nearly ten o\\'clock.\\n- Mr. McKee, likely a friend or relative of Mrs. McKee, </span>\n",
       "<span style=\"color: #008000; text-decoration-color: #008000\">is sleeping in a chair, described as looking like a \"man of action\" in a photograph.\\n- The narrator wipes away a </span>\n",
       "<span style=\"color: #008000; text-decoration-color: #008000\">tear from Mr. McKee\\'s cheek, suggesting a moment of empathy or sadness.\\n\\nThis passage captures the characters\\' </span>\n",
       "<span style=\"color: #008000; text-decoration-color: #008000\">personalities and the social dynamics between them, highlighting themes of infidelity, materialism, and the </span>\n",
       "<span style=\"color: #008000; text-decoration-color: #008000\">superficiality of relationships in the 1920s. The contrast between'</span>\n",
       "<span style=\"font-weight: bold\">]</span>\n",
       "</pre>\n"
      ],
      "text/plain": [
       "\u001b[1m[\u001b[0m\n",
       "    \u001b[32m'Europe, I discovered that I was different from my fellow  Americans: the summer I turned eighteen, I had one \u001b[0m\n",
       "\u001b[32mof \u001b[0m\n",
       "\u001b[32mthose破折号后面的部分是中文，可以忽略不计。以下是《了不起的盖茨比》（F·斯科特·菲茨杰拉德，1925年）的总结，包括尽可\u001b[0m\n",
       "\u001b[32m能多的关键细节：\\n\\n《了不起的盖茨比》是美国作家F·斯科特·菲茨杰拉德于1925年创作的小说。这部小说以20世纪20年代的美国\u001b[0m\n",
       "\u001b[32m为背景，描绘了一个关于梦想、爱情和失落的故事。\\n\\n故事的主人公杰伊·盖茨比是一个神秘而富有魅力的人物，他举办奢华的派\u001b[0m\n",
       "\u001b[32m对，试图吸引心爱的女人黛西·布坎南的注意。然而，盖茨比的真实身份和过去的秘密逐渐浮出水面，揭示了他的悲剧命运。\\n\\n小\u001b[0m\n",
       "\u001b[32m说通过叙述者尼克·卡拉威的眼睛展开，尼克是一位来自中西部的年轻人，他在纽约州的西卵区租了一间房子，并成为了盖茨比的邻\u001b[0m\n",
       "\u001b[32m居。尼克在故事中扮演着观察者的角色，他对盖茨比的好奇心和同情心贯穿整个故事。\\n\\n小说开头引用了托马'\u001b[0m,\n",
       "    \u001b[32m\"The old man was a man named Gatz who had found a book with a schedule of daily activities and resolutions \u001b[0m\n",
       "\u001b[32mwritten by his son Jimmy from 1906. The schedule included specific times for activities such as rising from bed, \u001b[0m\n",
       "\u001b[32mexercising, studying, working, playing baseball, practicing elocution, and inventing. It also included general \u001b[0m\n",
       "\u001b[32mresolves such as not wasting time, improving his mind, saving money, and being better to his parents. The old man \u001b[0m\n",
       "\u001b[32mwas excited to find the book and read through it, reminiscing about his son and their past conversations. He was \u001b[0m\n",
       "\u001b[32meager to share the contents with the narrator. The passage then shifts to describe Gatsby's father arriving at a \u001b[0m\n",
       "\u001b[32mfuneral, where they were waiting for someone else to arrive. When no one showed up, they eventually left in a \u001b[0m\n",
       "\u001b[32mprocession of cars to attend the cemetery service.\\n\\nKey details:\\n- Book belonged to Jimmy Gatz \u001b[0m\u001b[32m(\u001b[0m\u001b[32mGatsby's real \u001b[0m\n",
       "\u001b[32mname\u001b[0m\u001b[32m)\u001b[0m\u001b[32m\\n- Schedule from 1906\\n- Specific daily activities and times\\n- General resolves about self-improvement\\n- \u001b[0m\n",
       "\u001b[32mOld man Gatz was excited to find the book\\n- Shifts to describe Gatsby's father attending a funeral\\n- No one else \u001b[0m\n",
       "\u001b[32marrived, so they left for the cemetery\\n- Procession of cars to\"\u001b[0m,\n",
       "    \u001b[32m' Only Gatsby, the man who gives his  name to this book, was exempt from my reaction - Gatsby, who represented \u001b[0m\n",
       "\u001b[32meverything for which I have an unaffected scorn  If personality is an unbroken  series of successful gestures, then\u001b[0m\n",
       "\u001b[32mthere was something gorgeous about him, some  heightened sensitivity to the promises of life, as if he were related\u001b[0m\n",
       "\u001b[32mto one of  those intricate machines that register earthquakes ten thousand miles away This responsiveness had \u001b[0m\n",
       "\u001b[32mnothing to do with that flabby impressionability which '\u001b[0m,\n",
       "    \u001b[32m\"the whole object of life is to live, not to occupy a certain position in society  or to arrive at any \u001b[0m\n",
       "\u001b[32mparticular goal, but simply to be alive, to be in the  thick of things, feeling them, suffering them, enjoying \u001b[0m\n",
       "\u001b[32mthem, and to get one's  blood racing and one's mind working, and to have that special kind of happiness  that comes\u001b[0m\n",
       "\u001b[32mfrom being completely engaged in something that is bigger than  oneself. The passage describes the narrator's \u001b[0m\n",
       "\u001b[32mjourney to a new life at a preparatory school in the early 1920s. Key details include:\\n\\n- The narrator was chosen\u001b[0m\n",
       "\u001b[32mfor a prep school by their family, who agreed to finance it.\\n- They moved to the East Coast in the spring of 1922,\u001b[0m\n",
       "\u001b[32minitially planning to stay permanently.\\n- Initially, they considered living in the city but decided to rent a \u001b[0m\n",
       "\u001b[32mhouse in a nearby commuting town.\\n- The house was a small, weather-beaten bungalow rented for $80 per month.\\n- \u001b[0m\n",
       "\u001b[32mThe narrator had a dog \u001b[0m\u001b[32m(\u001b[0m\u001b[32mwhich ran away\u001b[0m\u001b[32m)\u001b[0m\u001b[32m and an old Dodge car, along with a Finnish maid who did household \u001b[0m\n",
       "\u001b[32mchores.\\n- Loneliness set in briefly, but the narrator met a newcomer on the road who sought directions, making the\u001b[0m\n",
       "\u001b[32mnarrator feel like a local\"\u001b[0m,\n",
       "    \u001b[32m'a tear. The passage describes a scene from F. Scott Fitzgerald\\'s novel \"The Great Gatsby,\" specifically from \u001b[0m\n",
       "\u001b[32mChapter 7. The narrator, Nick Carraway, is sitting in a train compartment with Myrtle Wilson, Tom Buchanan\\'s wife,\u001b[0m\n",
       "\u001b[32mand Mrs. McKee. Myrtle is recounting her first encounter with Tom, which occurred on the train.\\n\\nKey details \u001b[0m\n",
       "\u001b[32minclude:\\n- The setting is a train compartment.\\n- Myrtle is describing how she met Tom, who was dressed formally \u001b[0m\n",
       "\u001b[32mand made her feel uncomfortable.\\n- Myrtle\\'s description of the encounter is filled with excitement and \u001b[0m\n",
       "\u001b[32mnervousness.\\n- Myrtle\\'s story ends with her planning to buy new items, indicating her materialistic nature.\\n- \u001b[0m\n",
       "\u001b[32mThe narrator notices that it is now nearly ten o\\'clock.\\n- Mr. McKee, likely a friend or relative of Mrs. McKee, \u001b[0m\n",
       "\u001b[32mis sleeping in a chair, described as looking like a \"man of action\" in a photograph.\\n- The narrator wipes away a \u001b[0m\n",
       "\u001b[32mtear from Mr. McKee\\'s cheek, suggesting a moment of empathy or sadness.\\n\\nThis passage captures the characters\\' \u001b[0m\n",
       "\u001b[32mpersonalities and the social dynamics between them, highlighting themes of infidelity, materialism, and the \u001b[0m\n",
       "\u001b[32msuperficiality of relationships in the 1920s. The contrast between'\u001b[0m\n",
       "\u001b[1m]\u001b[0m\n"
      ]
     },
     "metadata": {},
     "output_type": "display_data"
    }
   ],
   "source": [
    "question=\"What is the main content of this book?\"\n",
    "context=rag.retrive(question)\n",
    "print(context)"
   ]
  },
  {
   "cell_type": "code",
   "execution_count": 12,
   "id": "b9741360",
   "metadata": {},
   "outputs": [
    {
     "data": {
      "text/html": [
       "<pre style=\"white-space:pre;overflow-x:auto;line-height:normal;font-family:Menlo,'DejaVu Sans Mono',consolas,'Courier New',monospace\">Given the Question, Context below, provide a logical reasoning to get the answer. Please use the format of: \n",
       "##Reason: <span style=\"font-weight: bold\">&lt;</span><span style=\"color: #ff00ff; text-decoration-color: #ff00ff; font-weight: bold\">reason</span><span style=\"color: #000000; text-decoration-color: #000000\">&gt; ##Answer: &lt;answer</span><span style=\"font-weight: bold\">&gt;</span>.\n",
       "\n",
       "Question: What is the main content of this book?\n",
       "\n",
       "Context: <span style=\"font-weight: bold\">[</span><span style=\"color: #008000; text-decoration-color: #008000\">'Europe, I discovered that I was different from my fellow  Americans: the summer I turned eighteen, I had</span>\n",
       "<span style=\"color: #008000; text-decoration-color: #008000\">one of </span>\n",
       "<span style=\"color: #008000; text-decoration-color: #008000\">those破折号后面的部分是中文，可以忽略不计。以下是《了不起的盖茨比》（F·斯科特·菲茨杰拉德，1925年）的总结，包括尽可</span>\n",
       "<span style=\"color: #008000; text-decoration-color: #008000\">能多的关键细节：\\n\\n《了不起的盖茨比》是美国作家F·斯科特·菲茨杰拉德于1925年创作的小说。这部小说以20世纪20年代的美国</span>\n",
       "<span style=\"color: #008000; text-decoration-color: #008000\">为背景，描绘了一个关于梦想、爱情和失落的故事。\\n\\n故事的主人公杰伊·盖茨比是一个神秘而富有魅力的人物，他举办奢华的派</span>\n",
       "<span style=\"color: #008000; text-decoration-color: #008000\">对，试图吸引心爱的女人黛西·布坎南的注意。然而，盖茨比的真实身份和过去的秘密逐渐浮出水面，揭示了他的悲剧命运。\\n\\n小</span>\n",
       "<span style=\"color: #008000; text-decoration-color: #008000\">说通过叙述者尼克·卡拉威的眼睛展开，尼克是一位来自中西部的年轻人，他在纽约州的西卵区租了一间房子，并成为了盖茨比的邻</span>\n",
       "<span style=\"color: #008000; text-decoration-color: #008000\">居。尼克在故事中扮演着观察者的角色，他对盖茨比的好奇心和同情心贯穿整个故事。\\n\\n小说开头引用了托马'</span>, <span style=\"color: #008000; text-decoration-color: #008000\">\"The old man </span>\n",
       "<span style=\"color: #008000; text-decoration-color: #008000\">was a man named Gatz who had found a book with a schedule of daily activities and resolutions written by his son </span>\n",
       "<span style=\"color: #008000; text-decoration-color: #008000\">Jimmy from 1906. The schedule included specific times for activities such as rising from bed, exercising, studying,</span>\n",
       "<span style=\"color: #008000; text-decoration-color: #008000\">working, playing baseball, practicing elocution, and inventing. It also included general resolves such as not </span>\n",
       "<span style=\"color: #008000; text-decoration-color: #008000\">wasting time, improving his mind, saving money, and being better to his parents. The old man was excited to find </span>\n",
       "<span style=\"color: #008000; text-decoration-color: #008000\">the book and read through it, reminiscing about his son and their past conversations. He was eager to share the </span>\n",
       "<span style=\"color: #008000; text-decoration-color: #008000\">contents with the narrator. The passage then shifts to describe Gatsby's father arriving at a funeral, where they </span>\n",
       "<span style=\"color: #008000; text-decoration-color: #008000\">were waiting for someone else to arrive. When no one showed up, they eventually left in a procession of cars to </span>\n",
       "<span style=\"color: #008000; text-decoration-color: #008000\">attend the cemetery service.\\n\\nKey details:\\n- Book belonged to Jimmy Gatz (Gatsby's real name)\\n- Schedule from </span>\n",
       "<span style=\"color: #008000; text-decoration-color: #008000\">1906\\n- Specific daily activities and times\\n- General resolves about self-improvement\\n- Old man Gatz was excited </span>\n",
       "<span style=\"color: #008000; text-decoration-color: #008000\">to find the book\\n- Shifts to describe Gatsby's father attending a funeral\\n- No one else arrived, so they left for</span>\n",
       "<span style=\"color: #008000; text-decoration-color: #008000\">the cemetery\\n- Procession of cars to\"</span>, <span style=\"color: #008000; text-decoration-color: #008000\">' Only Gatsby, the man who gives his  name to this book, was exempt from my</span>\n",
       "<span style=\"color: #008000; text-decoration-color: #008000\">reaction - Gatsby, who represented  everything for which I have an unaffected scorn  If personality is an unbroken </span>\n",
       "<span style=\"color: #008000; text-decoration-color: #008000\">series of successful gestures, then there was something gorgeous about him, some  heightened sensitivity to the </span>\n",
       "<span style=\"color: #008000; text-decoration-color: #008000\">promises of life, as if he were related to one of  those intricate machines that register earthquakes ten thousand </span>\n",
       "<span style=\"color: #008000; text-decoration-color: #008000\">miles away This responsiveness had nothing to do with that flabby impressionability which '</span>, <span style=\"color: #008000; text-decoration-color: #008000\">\"the whole object of </span>\n",
       "<span style=\"color: #008000; text-decoration-color: #008000\">life is to live, not to occupy a certain position in society  or to arrive at any particular goal, but simply to be</span>\n",
       "<span style=\"color: #008000; text-decoration-color: #008000\">alive, to be in the  thick of things, feeling them, suffering them, enjoying them, and to get one's  blood racing </span>\n",
       "<span style=\"color: #008000; text-decoration-color: #008000\">and one's mind working, and to have that special kind of happiness  that comes from being completely engaged in </span>\n",
       "<span style=\"color: #008000; text-decoration-color: #008000\">something that is bigger than  oneself. The passage describes the narrator's journey to a new life at a preparatory</span>\n",
       "<span style=\"color: #008000; text-decoration-color: #008000\">school in the early 1920s. Key details include:\\n\\n- The narrator was chosen for a prep school by their family, who</span>\n",
       "<span style=\"color: #008000; text-decoration-color: #008000\">agreed to finance it.\\n- They moved to the East Coast in the spring of 1922, initially planning to stay </span>\n",
       "<span style=\"color: #008000; text-decoration-color: #008000\">permanently.\\n- Initially, they considered living in the city but decided to rent a house in a nearby commuting </span>\n",
       "<span style=\"color: #008000; text-decoration-color: #008000\">town.\\n- The house was a small, weather-beaten bungalow rented for $80 per month.\\n- The narrator had a dog (which </span>\n",
       "<span style=\"color: #008000; text-decoration-color: #008000\">ran away) and an old Dodge car, along with a Finnish maid who did household chores.\\n- Loneliness set in briefly, </span>\n",
       "<span style=\"color: #008000; text-decoration-color: #008000\">but the narrator met a newcomer on the road who sought directions, making the narrator feel like a local\"</span>, <span style=\"color: #008000; text-decoration-color: #008000\">'a tear.</span>\n",
       "<span style=\"color: #008000; text-decoration-color: #008000\">The passage describes a scene from F. Scott Fitzgerald\\'s novel \"The Great Gatsby,\" specifically from Chapter 7. </span>\n",
       "<span style=\"color: #008000; text-decoration-color: #008000\">The narrator, Nick Carraway, is sitting in a train compartment with Myrtle Wilson, Tom Buchanan\\'s wife, and Mrs. </span>\n",
       "<span style=\"color: #008000; text-decoration-color: #008000\">McKee. Myrtle is recounting her first encounter with Tom, which occurred on the train.\\n\\nKey details include:\\n- </span>\n",
       "<span style=\"color: #008000; text-decoration-color: #008000\">The setting is a train compartment.\\n- Myrtle is describing how she met Tom, who was dressed formally and made her </span>\n",
       "<span style=\"color: #008000; text-decoration-color: #008000\">feel uncomfortable.\\n- Myrtle\\'s description of the encounter is filled with excitement and nervousness.\\n- </span>\n",
       "<span style=\"color: #008000; text-decoration-color: #008000\">Myrtle\\'s story ends with her planning to buy new items, indicating her materialistic nature.\\n- The narrator </span>\n",
       "<span style=\"color: #008000; text-decoration-color: #008000\">notices that it is now nearly ten o\\'clock.\\n- Mr. McKee, likely a friend or relative of Mrs. McKee, is sleeping in</span>\n",
       "<span style=\"color: #008000; text-decoration-color: #008000\">a chair, described as looking like a \"man of action\" in a photograph.\\n- The narrator wipes away a tear from Mr. </span>\n",
       "<span style=\"color: #008000; text-decoration-color: #008000\">McKee\\'s cheek, suggesting a moment of empathy or sadness.\\n\\nThis passage captures the characters\\' personalities </span>\n",
       "<span style=\"color: #008000; text-decoration-color: #008000\">and the social dynamics between them, highlighting themes of infidelity, materialism, and the superficiality of </span>\n",
       "<span style=\"color: #008000; text-decoration-color: #008000\">relationships in the 1920s. The contrast between'</span><span style=\"font-weight: bold\">]</span>\n",
       "</pre>\n"
      ],
      "text/plain": [
       "Given the Question, Context below, provide a logical reasoning to get the answer. Please use the format of: \n",
       "##Reason: \u001b[1m<\u001b[0m\u001b[1;95mreason\u001b[0m\u001b[39m> ##Answer: <answer\u001b[0m\u001b[1m>\u001b[0m.\n",
       "\n",
       "Question: What is the main content of this book?\n",
       "\n",
       "Context: \u001b[1m[\u001b[0m\u001b[32m'Europe, I discovered that I was different from my fellow  Americans: the summer I turned eighteen, I had\u001b[0m\n",
       "\u001b[32mone of \u001b[0m\n",
       "\u001b[32mthose破折号后面的部分是中文，可以忽略不计。以下是《了不起的盖茨比》（F·斯科特·菲茨杰拉德，1925年）的总结，包括尽可\u001b[0m\n",
       "\u001b[32m能多的关键细节：\\n\\n《了不起的盖茨比》是美国作家F·斯科特·菲茨杰拉德于1925年创作的小说。这部小说以20世纪20年代的美国\u001b[0m\n",
       "\u001b[32m为背景，描绘了一个关于梦想、爱情和失落的故事。\\n\\n故事的主人公杰伊·盖茨比是一个神秘而富有魅力的人物，他举办奢华的派\u001b[0m\n",
       "\u001b[32m对，试图吸引心爱的女人黛西·布坎南的注意。然而，盖茨比的真实身份和过去的秘密逐渐浮出水面，揭示了他的悲剧命运。\\n\\n小\u001b[0m\n",
       "\u001b[32m说通过叙述者尼克·卡拉威的眼睛展开，尼克是一位来自中西部的年轻人，他在纽约州的西卵区租了一间房子，并成为了盖茨比的邻\u001b[0m\n",
       "\u001b[32m居。尼克在故事中扮演着观察者的角色，他对盖茨比的好奇心和同情心贯穿整个故事。\\n\\n小说开头引用了托马'\u001b[0m, \u001b[32m\"The old man \u001b[0m\n",
       "\u001b[32mwas a man named Gatz who had found a book with a schedule of daily activities and resolutions written by his son \u001b[0m\n",
       "\u001b[32mJimmy from 1906. The schedule included specific times for activities such as rising from bed, exercising, studying,\u001b[0m\n",
       "\u001b[32mworking, playing baseball, practicing elocution, and inventing. It also included general resolves such as not \u001b[0m\n",
       "\u001b[32mwasting time, improving his mind, saving money, and being better to his parents. The old man was excited to find \u001b[0m\n",
       "\u001b[32mthe book and read through it, reminiscing about his son and their past conversations. He was eager to share the \u001b[0m\n",
       "\u001b[32mcontents with the narrator. The passage then shifts to describe Gatsby's father arriving at a funeral, where they \u001b[0m\n",
       "\u001b[32mwere waiting for someone else to arrive. When no one showed up, they eventually left in a procession of cars to \u001b[0m\n",
       "\u001b[32mattend the cemetery service.\\n\\nKey details:\\n- Book belonged to Jimmy Gatz \u001b[0m\u001b[32m(\u001b[0m\u001b[32mGatsby's real name\u001b[0m\u001b[32m)\u001b[0m\u001b[32m\\n- Schedule from \u001b[0m\n",
       "\u001b[32m1906\\n- Specific daily activities and times\\n- General resolves about self-improvement\\n- Old man Gatz was excited \u001b[0m\n",
       "\u001b[32mto find the book\\n- Shifts to describe Gatsby's father attending a funeral\\n- No one else arrived, so they left for\u001b[0m\n",
       "\u001b[32mthe cemetery\\n- Procession of cars to\"\u001b[0m, \u001b[32m' Only Gatsby, the man who gives his  name to this book, was exempt from my\u001b[0m\n",
       "\u001b[32mreaction - Gatsby, who represented  everything for which I have an unaffected scorn  If personality is an unbroken \u001b[0m\n",
       "\u001b[32mseries of successful gestures, then there was something gorgeous about him, some  heightened sensitivity to the \u001b[0m\n",
       "\u001b[32mpromises of life, as if he were related to one of  those intricate machines that register earthquakes ten thousand \u001b[0m\n",
       "\u001b[32mmiles away This responsiveness had nothing to do with that flabby impressionability which '\u001b[0m, \u001b[32m\"the whole object of \u001b[0m\n",
       "\u001b[32mlife is to live, not to occupy a certain position in society  or to arrive at any particular goal, but simply to be\u001b[0m\n",
       "\u001b[32malive, to be in the  thick of things, feeling them, suffering them, enjoying them, and to get one's  blood racing \u001b[0m\n",
       "\u001b[32mand one's mind working, and to have that special kind of happiness  that comes from being completely engaged in \u001b[0m\n",
       "\u001b[32msomething that is bigger than  oneself. The passage describes the narrator's journey to a new life at a preparatory\u001b[0m\n",
       "\u001b[32mschool in the early 1920s. Key details include:\\n\\n- The narrator was chosen for a prep school by their family, who\u001b[0m\n",
       "\u001b[32magreed to finance it.\\n- They moved to the East Coast in the spring of 1922, initially planning to stay \u001b[0m\n",
       "\u001b[32mpermanently.\\n- Initially, they considered living in the city but decided to rent a house in a nearby commuting \u001b[0m\n",
       "\u001b[32mtown.\\n- The house was a small, weather-beaten bungalow rented for $80 per month.\\n- The narrator had a dog \u001b[0m\u001b[32m(\u001b[0m\u001b[32mwhich \u001b[0m\n",
       "\u001b[32mran away\u001b[0m\u001b[32m)\u001b[0m\u001b[32m and an old Dodge car, along with a Finnish maid who did household chores.\\n- Loneliness set in briefly, \u001b[0m\n",
       "\u001b[32mbut the narrator met a newcomer on the road who sought directions, making the narrator feel like a local\"\u001b[0m, \u001b[32m'a tear.\u001b[0m\n",
       "\u001b[32mThe passage describes a scene from F. Scott Fitzgerald\\'s novel \"The Great Gatsby,\" specifically from Chapter 7. \u001b[0m\n",
       "\u001b[32mThe narrator, Nick Carraway, is sitting in a train compartment with Myrtle Wilson, Tom Buchanan\\'s wife, and Mrs. \u001b[0m\n",
       "\u001b[32mMcKee. Myrtle is recounting her first encounter with Tom, which occurred on the train.\\n\\nKey details include:\\n- \u001b[0m\n",
       "\u001b[32mThe setting is a train compartment.\\n- Myrtle is describing how she met Tom, who was dressed formally and made her \u001b[0m\n",
       "\u001b[32mfeel uncomfortable.\\n- Myrtle\\'s description of the encounter is filled with excitement and nervousness.\\n- \u001b[0m\n",
       "\u001b[32mMyrtle\\'s story ends with her planning to buy new items, indicating her materialistic nature.\\n- The narrator \u001b[0m\n",
       "\u001b[32mnotices that it is now nearly ten o\\'clock.\\n- Mr. McKee, likely a friend or relative of Mrs. McKee, is sleeping in\u001b[0m\n",
       "\u001b[32ma chair, described as looking like a \"man of action\" in a photograph.\\n- The narrator wipes away a tear from Mr. \u001b[0m\n",
       "\u001b[32mMcKee\\'s cheek, suggesting a moment of empathy or sadness.\\n\\nThis passage captures the characters\\' personalities \u001b[0m\n",
       "\u001b[32mand the social dynamics between them, highlighting themes of infidelity, materialism, and the superficiality of \u001b[0m\n",
       "\u001b[32mrelationships in the 1920s. The contrast between'\u001b[0m\u001b[1m]\u001b[0m\n"
      ]
     },
     "metadata": {},
     "output_type": "display_data"
    }
   ],
   "source": [
    "promplate=\"\"\"Given the Question, Context below, provide a logical reasoning to get the answer. Please use the format of: ##Reason: <reason> ##Answer: <answer>.\n",
    "\n",
    "Question: {question}\n",
    "\n",
    "Context: {context}\"\"\"\n",
    "prompt=promplate.format(question=question, context=context)\n",
    "print(prompt)"
   ]
  },
  {
   "cell_type": "code",
   "execution_count": 13,
   "id": "781f9e31",
   "metadata": {},
   "outputs": [
    {
     "data": {
      "text/html": [
       "<pre style=\"white-space:pre;overflow-x:auto;line-height:normal;font-family:Menlo,'DejaVu Sans Mono',consolas,'Courier New',monospace\">##Reason: The context provides a summary of the novel <span style=\"color: #008000; text-decoration-color: #008000\">\"The Great Gatsby\"</span> by \n",
       "F·斯科特·菲茨杰拉德，描述了20世纪20年代美国的社会背景、主要人物及其关系，以及小说的主题。\n",
       "##Answer: \n",
       "该书的主要内容是20世纪20年代美国背景下关于梦想、爱情和失落的故事。主人公杰伊·盖茨比举办奢华派对，试图吸引心爱的女人\n",
       "黛西·布坎南的注意，但他的真实身份和过去的秘密逐渐揭露了他的悲剧命运。小说通过叙述者尼克·卡拉威的眼睛展开，探讨了个\n",
       "人主义、社会地位和个人幸福之间的冲突。\n",
       "</pre>\n"
      ],
      "text/plain": [
       "##Reason: The context provides a summary of the novel \u001b[32m\"The Great Gatsby\"\u001b[0m by \n",
       "F·斯科特·菲茨杰拉德，描述了20世纪20年代美国的社会背景、主要人物及其关系，以及小说的主题。\n",
       "##Answer: \n",
       "该书的主要内容是20世纪20年代美国背景下关于梦想、爱情和失落的故事。主人公杰伊·盖茨比举办奢华派对，试图吸引心爱的女人\n",
       "黛西·布坎南的注意，但他的真实身份和过去的秘密逐渐揭露了他的悲剧命运。小说通过叙述者尼克·卡拉威的眼睛展开，探讨了个\n",
       "人主义、社会地位和个人幸福之间的冲突。\n"
      ]
     },
     "metadata": {},
     "output_type": "display_data"
    }
   ],
   "source": [
    "answer=llm.answer_question(prompt)\n",
    "print(answer)"
   ]
  }
 ],
 "metadata": {
  "kernelspec": {
   "display_name": "grag",
   "language": "python",
   "name": "python3"
  },
  "language_info": {
   "codemirror_mode": {
    "name": "ipython",
    "version": 3
   },
   "file_extension": ".py",
   "mimetype": "text/x-python",
   "name": "python",
   "nbconvert_exporter": "python",
   "pygments_lexer": "ipython3",
   "version": "3.11.10"
  }
 },
 "nbformat": 4,
 "nbformat_minor": 5
}
